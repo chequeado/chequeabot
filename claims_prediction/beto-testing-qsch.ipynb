{
 "cells": [
  {
   "cell_type": "markdown",
   "metadata": {},
   "source": [
    "# Clasificación de frases chequeables usando Bert"
   ]
  },
  {
   "cell_type": "markdown",
   "metadata": {},
   "source": [
    "Para este problema se intentará usar [Beto](https://github.com/dccuchile/beto) y HuggingFace. Especialmente se sigue este [ejemplo](https://huggingface.co/transformers/custom_datasets.html#seq-imdb)"
   ]
  },
  {
   "cell_type": "code",
   "execution_count": 1,
   "metadata": {},
   "outputs": [],
   "source": [
    "from transformers import pipeline"
   ]
  },
  {
   "cell_type": "code",
   "execution_count": 2,
   "metadata": {},
   "outputs": [],
   "source": [
    "text_classification = pipeline(\n",
    "    \"sentiment-analysis\",\n",
    "    model=\"./qsch\",\n",
    "    tokenizer=\"dccuchile/bert-base-spanish-wwm-cased\"\n",
    ")"
   ]
  },
  {
   "cell_type": "code",
   "execution_count": 17,
   "metadata": {},
   "outputs": [],
   "source": [
    "import pandas as pd\n",
    "\n",
    "df = pd.read_json(path_or_buf='output_all.jsonl', lines=True)"
   ]
  },
  {
   "cell_type": "code",
   "execution_count": 23,
   "metadata": {},
   "outputs": [],
   "source": [
    "claims = list(df['sentence_text'])"
   ]
  },
  {
   "cell_type": "code",
   "execution_count": 24,
   "metadata": {},
   "outputs": [
    {
     "data": {
      "text/plain": [
       "99999"
      ]
     },
     "execution_count": 24,
     "metadata": {},
     "output_type": "execute_result"
    }
   ],
   "source": [
    "len(claims)"
   ]
  },
  {
   "cell_type": "code",
   "execution_count": 26,
   "metadata": {},
   "outputs": [],
   "source": [
    "predicted_labels = text_classification(claims[:1000])"
   ]
  },
  {
   "cell_type": "code",
   "execution_count": 34,
   "metadata": {},
   "outputs": [],
   "source": [
    "result = zip(claims[:1000], predicted_labels)"
   ]
  },
  {
   "cell_type": "code",
   "execution_count": 36,
   "metadata": {},
   "outputs": [
    {
     "name": "stdout",
     "output_type": "stream",
     "text": [
      "la mayoría de las provincias están proyectando el regreso a las clases presenciales\n",
      "chequeable\n",
      "...\n",
      "Para el año próximo la mayoría de las provincias están proyectando el regreso a las clases presenciales para el primero de marzo y en la primera semana de ese mes y algunas jurisdicciones en febrero, como la Ciudad de Buenos Aires y Jujuy\n",
      "no-chequeable\n",
      "...\n",
      "este año hay provincias que se siguen sumando a la presencialidad\n",
      "chequeable\n",
      "...\n",
      "la mitad de la Argentina está teniendo instancias de presencialidad, priorizando los últimos años del primario y del secundario\n",
      "chequeable\n",
      "...\n",
      "Hay otras provincias en las cuales los gobernadores, que son los que tienen la decisión de poder dar el paso, consideran que aún no están dadas las condiciones epidemiológicas o la capacidad de respuesta de su sistema sanitario\n",
      "no-chequeable\n",
      "...\n",
      "es un paso importante de cara a lo que es el ciclo lectivo 2021, donde proponemos que la presencialidad sea el ordenador de nuestro sistema educativo, como este año lo fue la priorización del cuidado de la salud, y que la presencialidad también sea la regla\n",
      "no-chequeable\n",
      "...\n",
      "en un país tan extenso como el nuestro hay realidades epidemiológicas diferentes\n",
      "chequeable\n",
      "...\n",
      "la pandemia impactó muy fuerte en la región metropolitana\n",
      "chequeable\n",
      "...\n",
      "Recién hace un mes, un mes y medio, mejoró la realidad y es cuando la Ciudad de Buenos Aires y el Gran Buenos Aires dieron pasos en actividades de revinculación educativa\n",
      "no-chequeable\n",
      "...\n",
      "Hay organismos internacionales que plantean que hay que priorizar la apertura de las escuelas, pero son los mismos que en agosto y septiembre decían cosas diferentes.\n",
      "no-chequeable\n",
      "...\n",
      "Hay que poner en valor la experiencia que están transitando los países del hemisferio norte que están recibiendo el impacto de la segunda ola\n",
      "no-chequeable\n",
      "...\n",
      "la primera provincia que regresó a la presencialidad fue San Juan, el 10 de agosto, y no la pudo sostener; luego se sumaro Formosa, Santa Fe, La Pampa y San Luis.\n",
      "no-chequeable\n",
      "...\n",
      "Hoy son más de 12 provincias que tienen distintas instancias de presencialidad\n",
      "chequeable\n",
      "...\n",
      "están en instancias de revinculación educativa\n",
      "no-chequeable\n",
      "...\n",
      "por lo que fue el comportamiento en el hemisferio norte, en septiembre, los indicadores epidemiológicos fueron mejores luego del verano\n",
      "no-chequeable\n",
      "...\n",
      "Creemos, y así lo marcan los especialistas, que en marzo la realidad epidemiológica va a ser muy positiva.\n",
      "no-chequeable\n",
      "...\n",
      "Eso también implica que en el verano nos cuidemos para que los indicadores sigan mejorando\n",
      "no-chequeable\n",
      "...\n",
      "Hay un 10% en la Argentina que tuvieron poco o nulo contacto con la escuela\n",
      "chequeable\n",
      "...\n",
      "con cada una de las jurisdicciones se están estableciendo las instancias de revinculación educativa y el verano es clave\n",
      "no-chequeable\n",
      "...\n",
      "el gobierno tomó la decisión de priorizar la vacunación de los docentes, que nos va a permitir la presencialidad de cara al año próximo\n",
      "chequeable\n",
      "...\n",
      "los cuidados los vamos a tener que sostener hasta un proceso de vacunación que nos permita superar la realidad de la pandemia\n",
      "no-chequeable\n",
      "...\n",
      "los protocolos para el regreso seguro\n",
      "no-chequeable\n",
      "...\n",
      "le dio a cada gobernador la posibilidad de avanzar de acuerdo a su realidad epidemiológica\n",
      "no-chequeable\n",
      "...\n",
      "en la primera etapa, que se extenderá durante seis meses, las personas que producen bienes y servicios en el país y que tienen una actividad registrada, deben completar un cuestionario en línea\n",
      "no-chequeable\n",
      "...\n",
      "el CNE nos va a dar la información necesaria para ver los cambios productivos de las distintas regiones, la dinámica del empleo y las nuevas actividades que fueron surgiendo en el país en los últimos años\n",
      "no-chequeable\n",
      "...\n",
      "Lo bueno del e-CNE es que las personas lo van a poder completar en el momento y en el lugar donde quieran: desde su casa, su oficina, la fábrica o el consultorio\n",
      "no-chequeable\n",
      "...\n",
      "El cuestionario digital puede tener 14, 15 o 17 preguntas dependiendo el tipo de persona que complete el censo y una vez que se finalice, el sistema ofrecerá la descarga del certificado censal, necesario para la realización de futuros trámites administrativos y bancarios\n",
      "chequeable\n",
      "...\n",
      "los cuadernos de las coimas\n",
      "no-chequeable\n",
      "...\n",
      "Este es ideal para los docentes y dura solo un cuatrimestre.\n",
      "chequeable\n",
      "...\n",
      "En el segundo se abrirá el de auxiliar, pero para hacerlo sí o sí tienen que haber hecho el anterior\n",
      "no-chequeable\n",
      "...\n",
      "Algunos idiomas tendrán tres horarios; mañana, siesta y tarde, mientras que otros solo dos\n",
      "chequeable\n",
      "...\n",
      "No podemos estar en todo San Luis, por eso de esta forma tendrán la oportunidad de estudiar un idioma, que hoy en día es tan indispensable.\n",
      "no-chequeable\n",
      "...\n",
      "También nos llaman de otras provincias\n",
      "no-chequeable\n",
      "...\n",
      "Nos dimos cuenta que es posible y obtuvimos buenos resultados.\n",
      "no-chequeable\n",
      "...\n",
      "Creo que es una buena iniciativa\n",
      "no-chequeable\n",
      "...\n",
      "Algunos de los que dejaron son adultos mayores que no saben manejar la computadora, pero ya veremos qué sucede más adelante.\n",
      "no-chequeable\n",
      "...\n",
      "Todo depende de la situación epidemiológica que mantenga la provincia\n",
      "no-chequeable\n",
      "...\n",
      "no era su médico de cabecera\n",
      "no-chequeable\n",
      "...\n",
      "no tenía una internación domiciliaria\n",
      "chequeable\n",
      "...\n",
      "Diego fue dado de alta y realmente no tenía internación domiciliaria ni mucho menos, con lo cual el trabajo del doctor Luque ya estaba realizado\n",
      "no-chequeable\n",
      "...\n"
     ]
    }
   ],
   "source": [
    "for res in list(result)[:40]:\n",
    "    print(res[0])\n",
    "    claim_type = 'chequeable' if res[1]['label'] == 'LABEL_0' else 'no-chequeable'\n",
    "    print(claim_type)\n",
    "    print('...')"
   ]
  }
 ],
 "metadata": {
  "kernelspec": {
   "display_name": "Python 3",
   "language": "python",
   "name": "python3"
  },
  "language_info": {
   "codemirror_mode": {
    "name": "ipython",
    "version": 3
   },
   "file_extension": ".py",
   "mimetype": "text/x-python",
   "name": "python",
   "nbconvert_exporter": "python",
   "pygments_lexer": "ipython3",
   "version": "3.6.10"
  }
 },
 "nbformat": 4,
 "nbformat_minor": 4
}
